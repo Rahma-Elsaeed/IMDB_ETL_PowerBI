{
 "cells": [
  {
   "cell_type": "code",
   "execution_count": 1,
   "id": "916473f7",
   "metadata": {},
   "outputs": [
    {
     "name": "stdout",
     "output_type": "stream",
     "text": [
      "Data loaded successfully to SQL Server!\n"
     ]
    }
   ],
   "source": [
    "from sqlalchemy import create_engine\n",
    "import pandas as pd\n",
    "movies_df = pd.read_csv(\"IMDB_top_250_movies_cleaned.csv\")\n",
    "\n",
    "connection_string = (\n",
    "    \"mssql+pyodbc://localhost/IMDB_DB?driver=ODBC+Driver+17+for+SQL+Server&trusted_connection=yes\"\n",
    ")\n",
    "\n",
    "engine = create_engine(connection_string)\n",
    "\n",
    "movies_df.to_sql(\n",
    "    name=\"IMDB_Top250_Movies\",\n",
    "    con=engine,\n",
    "    if_exists=\"replace\",\n",
    "    index=False\n",
    ")\n",
    "\n",
    "print(\"Data loaded successfully to SQL Server!\")"
   ]
  },
  {
   "cell_type": "code",
   "execution_count": null,
   "id": "8d799102",
   "metadata": {},
   "outputs": [],
   "source": []
  }
 ],
 "metadata": {
  "kernelspec": {
   "display_name": "Pyhon (My conda)",
   "language": "python",
   "name": "base"
  },
  "language_info": {
   "codemirror_mode": {
    "name": "ipython",
    "version": 3
   },
   "file_extension": ".py",
   "mimetype": "text/x-python",
   "name": "python",
   "nbconvert_exporter": "python",
   "pygments_lexer": "ipython3",
   "version": "3.13.5"
  }
 },
 "nbformat": 4,
 "nbformat_minor": 5
}
