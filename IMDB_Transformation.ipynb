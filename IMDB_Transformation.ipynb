{
 "cells": [
  {
   "cell_type": "code",
   "execution_count": 2,
   "id": "00f95b84",
   "metadata": {},
   "outputs": [],
   "source": [
    "import pandas as pd\n",
    "movies_df = pd.read_csv(\"IMDB_top_250_movies.csv\")"
   ]
  },
  {
   "cell_type": "code",
   "execution_count": 4,
   "id": "52eaa011",
   "metadata": {},
   "outputs": [],
   "source": [
    "movies_df[\"movie Name\"] = movies_df[\"movie Name\"].str.strip()"
   ]
  },
  {
   "cell_type": "code",
   "execution_count": 5,
   "id": "e84efb67",
   "metadata": {},
   "outputs": [],
   "source": [
    "movies_df[\"movie year\"] = pd.to_numeric(movies_df[\"movie year\"], errors=\"coerce\")"
   ]
  },
  {
   "cell_type": "code",
   "execution_count": 6,
   "id": "547bac8a",
   "metadata": {},
   "outputs": [],
   "source": [
    "movies_df[\"movie Rate\"] = pd.to_numeric(movies_df[\"movie Rate\"], errors=\"coerce\")"
   ]
  },
  {
   "cell_type": "code",
   "execution_count": 7,
   "id": "fec88978",
   "metadata": {},
   "outputs": [],
   "source": [
    "def duration_minutes(duration):\n",
    "    hours = 0\n",
    "    minutes = 0\n",
    "    if \"h\" in duration:\n",
    "        h = duration.index(\"h\")\n",
    "        hours = int(duration[:h])\n",
    "        if \"m\" in duration:\n",
    "            m = duration.index(\"m\")\n",
    "            minutes = int(duration[h+1:m])\n",
    "    else:\n",
    "        if \"m\" in duration:\n",
    "            m = duration.index(\"m\")\n",
    "            minutes = int(duration[:m])\n",
    "    return hours*60 + minutes\n",
    "\n",
    "movies_df[\"movie duration\"] = movies_df[\"movie duration\"].apply(duration_minutes)"
   ]
  },
  {
   "cell_type": "code",
   "execution_count": 8,
   "id": "0bcd1ae2",
   "metadata": {},
   "outputs": [],
   "source": [
    "movies_df[\"movie URL\"] = movies_df[\"movie URL\"].fillna(\"NULL\")"
   ]
  },
  {
   "cell_type": "code",
   "execution_count": 9,
   "id": "a9045cee",
   "metadata": {},
   "outputs": [],
   "source": [
    "movies_df = movies_df.drop_duplicates(subset=[\"movie Name\", \"movie URL\"])"
   ]
  },
  {
   "cell_type": "code",
   "execution_count": 10,
   "id": "4911e9ee",
   "metadata": {},
   "outputs": [],
   "source": [
    "movies_df = movies_df.dropna(subset=[\"movie Name\", \"movie year\", \"movie Rate\", \"movie duration\"])"
   ]
  },
  {
   "cell_type": "code",
   "execution_count": 11,
   "id": "9050e185",
   "metadata": {},
   "outputs": [],
   "source": [
    "movies_df = movies_df.sort_values(by=[\"movie Rate\"], ascending=False)"
   ]
  },
  {
   "cell_type": "code",
   "execution_count": 12,
   "id": "605eb104",
   "metadata": {},
   "outputs": [],
   "source": [
    "movies_df.to_csv(\"IMDB_top_250_movies_cleaned.csv\", index=False, encoding=\"utf-8\")\n",
    "\n",
    "movies_df.to_excel(\"IMDB_top_250_movies_cleaned.xlsx\", index=False)"
   ]
  },
  {
   "cell_type": "code",
   "execution_count": 13,
   "id": "0873a41c",
   "metadata": {},
   "outputs": [
    {
     "name": "stdout",
     "output_type": "stream",
     "text": [
      "<class 'pandas.core.frame.DataFrame'>\n",
      "Index: 250 entries, 0 to 249\n",
      "Data columns (total 6 columns):\n",
      " #   Column             Non-Null Count  Dtype  \n",
      "---  ------             --------------  -----  \n",
      " 0   movie Name         250 non-null    object \n",
      " 1   movie year         250 non-null    int64  \n",
      " 2   movie Rate         250 non-null    float64\n",
      " 3   movie duration     250 non-null    int64  \n",
      " 4   movie certificate  249 non-null    object \n",
      " 5   movie URL          250 non-null    object \n",
      "dtypes: float64(1), int64(2), object(3)\n",
      "memory usage: 13.7+ KB\n",
      "None\n"
     ]
    }
   ],
   "source": [
    "print(movies_df.info())"
   ]
  },
  {
   "cell_type": "code",
   "execution_count": 14,
   "id": "aff98fe2",
   "metadata": {},
   "outputs": [
    {
     "name": "stdout",
     "output_type": "stream",
     "text": [
      "                    movie Name  movie year  movie Rate  movie duration  \\\n",
      "0  1. The Shawshank Redemption        1994         9.3             142   \n",
      "1             2. The Godfather        1972         9.2             175   \n",
      "2           3. The Dark Knight        2008         9.1             152   \n",
      "3     4. The Godfather Part II        1974         9.0             202   \n",
      "4              5. 12 Angry Men        1957         9.0              96   \n",
      "\n",
      "  movie certificate                                          movie URL  \n",
      "0                15  https://www.imdb.com/title/tt0111161/?ref_=cht...  \n",
      "1                15  https://www.imdb.com/title/tt0068646/?ref_=cht...  \n",
      "2               12A  https://www.imdb.com/title/tt0468569/?ref_=cht...  \n",
      "3                 X  https://www.imdb.com/title/tt0071562/?ref_=cht...  \n",
      "4                 U  https://www.imdb.com/title/tt0050083/?ref_=cht...  \n"
     ]
    }
   ],
   "source": [
    "print(movies_df.head())"
   ]
  },
  {
   "cell_type": "code",
   "execution_count": null,
   "id": "6d9d9f38",
   "metadata": {},
   "outputs": [],
   "source": []
  }
 ],
 "metadata": {
  "kernelspec": {
   "display_name": "Pyhon (My conda)",
   "language": "python",
   "name": "base"
  },
  "language_info": {
   "codemirror_mode": {
    "name": "ipython",
    "version": 3
   },
   "file_extension": ".py",
   "mimetype": "text/x-python",
   "name": "python",
   "nbconvert_exporter": "python",
   "pygments_lexer": "ipython3",
   "version": "3.13.5"
  }
 },
 "nbformat": 4,
 "nbformat_minor": 5
}
